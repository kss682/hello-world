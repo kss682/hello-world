{
 "cells": [
  {
   "cell_type": "markdown",
   "metadata": {},
   "source": [
    "This is a deep learning tutorial in tensorflow using the handwriting datasets from mnist."
   ]
  },
  {
   "cell_type": "code",
   "execution_count": 10,
   "metadata": {
    "scrolled": true
   },
   "outputs": [
    {
     "name": "stdout",
     "output_type": "stream",
     "text": [
      "Epoch 1/3\n",
      "60000/60000 [==============================] - 11s 184us/step - loss: 0.2618 - acc: 0.9214\n",
      "Epoch 2/3\n",
      "60000/60000 [==============================] - 11s 180us/step - loss: 0.1088 - acc: 0.9667\n",
      "Epoch 3/3\n",
      "60000/60000 [==============================] - 11s 180us/step - loss: 0.0744 - acc: 0.9770\n",
      "10000/10000 [==============================] - 1s 92us/step\n",
      "0.10042259894981981 0.9703\n",
      "Epoch 1/3\n",
      "60000/60000 [==============================] - 10s 169us/step - loss: 0.0448 - acc: 0.9862\n",
      "Epoch 2/3\n",
      "60000/60000 [==============================] - 10s 164us/step - loss: 0.0265 - acc: 0.9927\n",
      "Epoch 3/3\n",
      "60000/60000 [==============================] - 10s 166us/step - loss: 0.0211 - acc: 0.9948\n",
      "10000/10000 [==============================] - 1s 89us/step\n",
      "0.07071902551489184 0.9798\n",
      "Epoch 1/3\n",
      "60000/60000 [==============================] - 11s 176us/step - loss: 0.0377 - acc: 0.9876\n",
      "Epoch 2/3\n",
      "60000/60000 [==============================] - 10s 172us/step - loss: 0.0336 - acc: 0.9890\n",
      "Epoch 3/3\n",
      "60000/60000 [==============================] - 11s 177us/step - loss: 0.0301 - acc: 0.9907\n",
      "10000/10000 [==============================] - 1s 107us/step\n",
      "0.10607232303180353 0.9774\n"
     ]
    },
    {
     "data": {
      "image/png": "[encoded data removed]",
      "text/plain": [
       "<Figure size 432x288 with 1 Axes>"
      ]
     },
     "metadata": {},
     "output_type": "display_data"
    }
   ],
   "source": [
    "import tensorflow as tf\n",
    "import matplotlib.pyplot as plt\n",
    "\n",
    "mnist=tf.keras.datasets.mnist\n",
    "\n",
    "(X_train,y_train),(X_test,y_test)=mnist.load_data()\n",
    "\n",
    "# Normalizing the data\n",
    "\n",
    "X_train=tf.keras.utils.normalize(X_train)\n",
    "X_test=tf.keras.utils.normalize(X_test)\n",
    "\n",
    "model=tf.keras.models.Sequential()\n",
    "model.add(tf.keras.layers.Flatten())\n",
    "model.add(tf.keras.layers.Dense(128,activation=tf.nn.relu))\n",
    "model.add(tf.keras.layers.Dense(128,activation=tf.nn.relu))\n",
    "model.add(tf.keras.layers.Dense(10,activation=tf.nn.softmax))\n",
    "\n",
    "loss=[]\n",
    "\n",
    "for optimizer in ['adam','AdaGrad','RMSProp']:\n",
    "\n",
    "    model.compile(optimizer=optimizer,loss='sparse_categorical_crossentropy',metrics=['accuracy'])\n",
    "    model.fit(X_train,y_train,epochs=3)\n",
    "    loss_score,acc_score=model.evaluate(X_test,y_test)\n",
    "    print(loss_score,acc_score)\n",
    "    loss.append(loss_score)\n",
    "    \n",
    "plt.scatter(['adam','AdaGrad','RMSProp'],loss)\n",
    "plt.xlabel('optimizer')\n",
    "plt.ylabel('loss_score')\n",
    "plt.show()\n",
    "\n"
   ]
  },
  {
   "cell_type": "code",
   "execution_count": 6,
   "metadata": {},
   "outputs": [
    {
     "data": {
      "image/png": "[encoded data removed]",
      "text/plain": [
       "<Figure size 432x288 with 1 Axes>"
      ]
     },
     "metadata": {},
     "output_type": "display_data"
    }
   ],
   "source": [
    "\n",
    "plt.imshow(X_train[0],cmap=plt.cm.binary)\n",
    "plt.show()"
   ]
  },
  {
   "cell_type": "code",
   "execution_count": 7,
   "metadata": {},
   "outputs": [
    {
     "name": "stdout",
     "output_type": "stream",
     "text": [
      "7\n"
     ]
    }
   ],
   "source": [
    "import numpy as np\n",
    "predictions=model.predict([X_test])\n",
    "print(np.argmax(predictions[0]))\n"
   ]
  },
  {
   "cell_type": "code",
   "execution_count": 8,
   "metadata": {},
   "outputs": [
    {
     "data": {
      "image/png": "[encoded data removed]",
      "text/plain": [
       "<Figure size 432x288 with 1 Axes>"
      ]
     },
     "metadata": {},
     "output_type": "display_data"
    }
   ],
   "source": [
    "plt.imshow(X_test[0])\n",
    "plt.show()"
   ]
  },
  {
   "cell_type": "markdown",
   "metadata": {},
   "source": [
    "The first prediction is right."
   ]
  }
 ],
 "metadata": {
  "kernelspec": {
   "display_name": "Python 3",
   "language": "python",
   "name": "python3"
  },
  "language_info": {
   "codemirror_mode": {
    "name": "ipython",
    "version": 3
   },
   "file_extension": ".py",
   "mimetype": "text/x-python",
   "name": "python",
   "nbconvert_exporter": "python",
   "pygments_lexer": "ipython3",
   "version": "3.5.2"
  }
 },
 "nbformat": 4,
 "nbformat_minor": 2
}
